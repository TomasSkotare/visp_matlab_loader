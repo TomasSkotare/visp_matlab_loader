{
 "cells": [
  {
   "cell_type": "code",
   "execution_count": 1,
   "id": "7b425806",
   "metadata": {},
   "outputs": [
    {
     "name": "stdout",
     "output_type": "stream",
     "text": [
      "Hello world\n"
     ]
    },
    {
     "data": {
      "text/plain": [
       "'/home/tomas/Projects/visp_matlab_loader/tests'"
      ]
     },
     "execution_count": 1,
     "metadata": {},
     "output_type": "execute_result"
    }
   ],
   "source": [
    "import os\n",
    "print('Hello world')\n",
    "# get current path:\n",
    "os.getcwd()"
   ]
  },
  {
   "cell_type": "code",
   "execution_count": 2,
   "id": "7080e246",
   "metadata": {},
   "outputs": [],
   "source": [
    "import os\n",
    "# Use os to add path '..' to sys.path\n",
    "os.sys.path.append('..')\n",
    "import visp_matlab_loader as vml\n",
    "\n",
    "\n",
    "\n"
   ]
  },
  {
   "cell_type": "code",
   "execution_count": 3,
   "id": "e6afb609",
   "metadata": {},
   "outputs": [
    {
     "name": "stdout",
     "output_type": "stream",
     "text": [
      "/usr/local/MATLAB/R2023b\n"
     ]
    }
   ],
   "source": [
    "#  Find installed MATLAB versions\n",
    "\n",
    "# from visp_matlab_loader.matlab_compiler import MatlabVersionFinder, MatlabCompiler\n",
    "from visp_matlab_loader.matlab_path_setter import MatlabPathSetter\n",
    "matlab_path = MatlabPathSetter()\n",
    "print(matlab_path.matlab_root)\n",
    "if not matlab_path.verify_paths():\n",
    "    raise Exception('Matlab paths are not set correctly')\n",
    "\n",
    "# MatlabCompiler(finder).compile()\n"
   ]
  },
  {
   "cell_type": "code",
   "execution_count": 4,
   "id": "e5b4cb2a",
   "metadata": {},
   "outputs": [
    {
     "name": "stdout",
     "output_type": "stream",
     "text": [
      "Compiling get_next_thousand\n",
      "Error compiling project: get_next_thousand, compiler message was: Output file get_next_thousand already exists in /home/tomas/Projects/visp_matlab_loader/matlab/compiled/get_next_thousand.\n",
      "Compiling voice_analysis_toolbox\n",
      "Successfully compiled project: voice_analysis_toolbox\n",
      "Compiling covarep\n",
      "Error compiling project: covarep, compiler message was: Output file covarep already exists in /home/tomas/Projects/visp_matlab_loader/matlab/compiled/covarep.\n"
     ]
    }
   ],
   "source": [
    "from visp_matlab_loader import matlab_compiler\n",
    "# reload matlab_compiler\n",
    "import importlib\n",
    "importlib.reload(matlab_compiler)\n",
    "from visp_matlab_loader import matlab_compiler\n",
    "\n",
    "\n",
    "\n",
    "MATLAB_LIBRARY_PATH = os.path.join(os.getcwd(), '..', 'matlab', 'libraries')\n",
    "MATLAB_COMPILED_PATH = os.path.join(os.getcwd(), '..', 'matlab', 'compiled')\n",
    "\n",
    "# Verify pat exists\n",
    "if not os.path.exists(MATLAB_LIBRARY_PATH):\n",
    "    raise Exception('Matlab library path does not exist: {}'.format(MATLAB_LIBRARY_PATH))\n",
    "\n",
    "if not os.path.exists(MATLAB_COMPILED_PATH):    \n",
    "    os.makedirs(MATLAB_COMPILED_PATH)\n",
    "\n",
    "for name in os.listdir(MATLAB_LIBRARY_PATH):\n",
    "    if os.path.isdir(os.path.join(MATLAB_LIBRARY_PATH, name)):\n",
    "        print('Compiling {}'.format(name))\n",
    "        compiler = matlab_compiler.MATLABProjectCompiler(project_path=os.path.join(MATLAB_LIBRARY_PATH, name), \n",
    "                                         output_path=os.path.join(MATLAB_COMPILED_PATH, name)) # Here we would add a MatlabPathSetter if we want to specify which compiler to use!\n",
    "        compiler_code, compiler_message = compiler.compile_project(verbose=False)\n",
    "        if compiler_code != 0:\n",
    "            print(f'Error compiling project: {name}, compiler message was: {compiler_message}')\n",
    "        else:\n",
    "            print(f'Successfully compiled project: {name}')\n",
    "        \n",
    "                                 "
   ]
  },
  {
   "cell_type": "code",
   "execution_count": 5,
   "id": "29db757d",
   "metadata": {},
   "outputs": [
    {
     "name": "stdout",
     "output_type": "stream",
     "text": [
      "Compiled files for project 'get_next_thousand:' \n",
      "\tLocated at '/home/tomas/Projects/visp_matlab_loader/matlab/compiled/get_next_thousand'.\n",
      " \tWrapper file is '/home/tomas/Projects/visp_matlab_loader/matlab/compiled/get_next_thousand/get_next_thousand_wrapper.m', \n",
      "\tBinary file is '/home/tomas/Projects/visp_matlab_loader/matlab/compiled/get_next_thousand/get_next_thousand'.\n",
      " \tCode found at '/home/tomas/Projects/visp_matlab_loader/matlab/libraries/get_next_thousand'.\n",
      "\tTest cases are located at '/home/tomas/Projects/visp_matlab_loader/matlab/tests/get_next_thousand'.\n",
      "Compiled files for project 'voice_analysis_toolbox:' \n",
      "\tLocated at '/home/tomas/Projects/visp_matlab_loader/matlab/compiled/voice_analysis_toolbox'.\n",
      " \tWrapper file is '/home/tomas/Projects/visp_matlab_loader/matlab/compiled/voice_analysis_toolbox/voice_analysis_toolbox_wrapper.m', \n",
      "\tBinary file is '/home/tomas/Projects/visp_matlab_loader/matlab/compiled/voice_analysis_toolbox/voice_analysis_toolbox'.\n",
      " \tCode found at '/home/tomas/Projects/visp_matlab_loader/matlab/libraries/voice_analysis_toolbox'.\n",
      "\tTest cases are located at 'None'.\n",
      "Compiled files for project 'covarep:' \n",
      "\tLocated at '/home/tomas/Projects/visp_matlab_loader/matlab/compiled/covarep'.\n",
      " \tWrapper file is '/home/tomas/Projects/visp_matlab_loader/matlab/compiled/covarep/covarep_wrapper.m', \n",
      "\tBinary file is '/home/tomas/Projects/visp_matlab_loader/matlab/compiled/covarep/covarep'.\n",
      " \tCode found at '/home/tomas/Projects/visp_matlab_loader/matlab/libraries/covarep'.\n",
      "\tTest cases are located at '/home/tomas/Projects/visp_matlab_loader/matlab/tests/covarep'.\n"
     ]
    }
   ],
   "source": [
    "# Find compiled projects\n",
    "from visp_matlab_loader import find_compiled_projects\n",
    "importlib.reload(find_compiled_projects)\n",
    "from visp_matlab_loader import find_compiled_projects\n",
    "\n",
    "compiled_projects = find_compiled_projects.CompiledProjectFinder('../matlab/compiled/')\n",
    "for project in compiled_projects.compiled_projects:\n",
    "    print(project)\n",
    "\n",
    "\n"
   ]
  },
  {
   "cell_type": "code",
   "execution_count": 6,
   "id": "77ff211b",
   "metadata": {},
   "outputs": [
    {
     "name": "stdout",
     "output_type": "stream",
     "text": [
      "Project get_next_thousand, test directory:  /home/tomas/Projects/visp_matlab_loader/matlab/tests/get_next_thousand\n",
      "Test case files:\n",
      "/home/tomas/Projects/visp_matlab_loader/matlab/tests/get_next_thousand/simple_test.json\n",
      "Project voice_analysis_toolbox, test directory:  None\n",
      "Project covarep, test directory:  /home/tomas/Projects/visp_matlab_loader/matlab/tests/covarep\n"
     ]
    }
   ],
   "source": [
    "# Now we have the compiled projects, and can check if any of them have any test data\n",
    "\n",
    "TEST_CASE_DIRECTORY = os.path.join(os.getcwd(), '..', 'tests', 'library_tests')\n",
    "\n",
    "for project in compiled_projects.compiled_projects:\n",
    "    name = project.name\n",
    "    test_dir = project.test_case_directory\n",
    "    print(f'Project {name}, test directory: ', project.test_case_directory)\n",
    "    # Check if it exists:\n",
    "    if project.test_case_files:\n",
    "        print('Test case files:')\n",
    "        for test_case in project.test_case_files:\n",
    "            print(test_case)\n",
    "            "
   ]
  },
  {
   "cell_type": "code",
   "execution_count": 7,
   "metadata": {},
   "outputs": [
    {
     "name": "stdout",
     "output_type": "stream",
     "text": [
      "Compiled files for project 'get_next_thousand:' \n",
      "\tLocated at '/home/tomas/Projects/visp_matlab_loader/matlab/compiled/get_next_thousand'.\n",
      " \tWrapper file is '/home/tomas/Projects/visp_matlab_loader/matlab/compiled/get_next_thousand/get_next_thousand_wrapper.m', \n",
      "\tBinary file is '/home/tomas/Projects/visp_matlab_loader/matlab/compiled/get_next_thousand/get_next_thousand'.\n",
      " \tCode found at '/home/tomas/Projects/visp_matlab_loader/matlab/libraries/get_next_thousand'.\n",
      "\tTest cases are located at '/home/tomas/Projects/visp_matlab_loader/matlab/tests/get_next_thousand'.\n",
      "{'getnextthousand': {'output': ['nextNumbers'], 'input': ['inputNumber']}, 'getnexttwothousand': {'output': ['nextNumbers'], 'input': ['inputNumber']}}\n",
      "[1]\n"
     ]
    }
   ],
   "source": [
    "import visp_matlab_loader.compiled_project_executor\n",
    "importlib.reload(visp_matlab_loader.compiled_project_executor)\n",
    "from visp_matlab_loader.compiled_project_executor import ExecuteCompiledProject\n",
    "\n",
    "executor = None\n",
    "\n",
    "for project in compiled_projects.compiled_projects:\n",
    "    print(project)\n",
    "    executor = ExecuteCompiledProject(project,return_inputs=True)\n",
    "    print(executor.available_functions)\n",
    "    # executor.execute_script('')\n",
    "    break\n",
    "\n",
    "if executor:\n",
    "    # executor.available_functions['getnextthousand']\n",
    "    result = executor.execute_script(\"getnextthousand\", 1, 1)"
   ]
  },
  {
   "cell_type": "code",
   "execution_count": 8,
   "metadata": {},
   "outputs": [
    {
     "name": "stdout",
     "output_type": "stream",
     "text": [
      "[1.0]\n",
      "True\n"
     ]
    }
   ],
   "source": [
    "from visp_matlab_loader.matlab_execution_result import MatlabExecutionResult\n",
    "\n",
    "\n",
    "test_json = result.to_json()\n",
    "loaded_results = MatlabExecutionResult.from_json(test_json)\n",
    "loaded_results.inputs\n",
    "\n",
    "executor = ExecuteCompiledProject(project,return_inputs=True)\n",
    "new_result = executor.execute_script(loaded_results.function_name, len(loaded_results.outputs), *loaded_results.inputs)\n",
    "print(new_result == loaded_results)\n"
   ]
  },
  {
   "cell_type": "code",
   "execution_count": 20,
   "metadata": {},
   "outputs": [
    {
     "data": {
      "text/plain": [
       "['voice_analysis_modified']"
      ]
     },
     "execution_count": 20,
     "metadata": {},
     "output_type": "execute_result"
    }
   ],
   "source": [
    "# Try to run the modified voice analysis toolbox script\n",
    "# executor = ExecuteCompiledProject(],return_inputs=True)\n",
    "va_toolbox = compiled_projects.get_project('voice_analysis_toolbox')\n",
    "va_executor = ExecuteCompiledProject(va_toolbox,return_inputs=True)\n",
    "\n",
    "\n",
    "from thefuzz import fuzz\n",
    "# Create function that finds functions containing strings similar to (not necessarily identical) to the given string\n",
    "def find_similar_functions(string, executor, ratio_threshold=50):\n",
    "    # Get all functions\n",
    "    all_functions = executor.available_functions\n",
    "    # Find all functions that contain the given string\n",
    "    similar_functions = []\n",
    "    \n",
    "    for function in all_functions:\n",
    "        if string in function:\n",
    "            similar_functions.append(function)\n",
    "            continue\n",
    "        # Use fuzzy string matching to find similar strings, using the thefuzz library\n",
    "        \n",
    "        ratio = fuzz.partial_ratio(string, function)\n",
    "        if ratio > ratio_threshold:\n",
    "            similar_functions.append(function)\n",
    "        \n",
    "\n",
    "    return similar_functions\n",
    "\n",
    "# try finding a project containing the string 'modified'\n",
    "find_similar_functions('modified', va_executor, ratio_threshold=100)\n"
   ]
  },
  {
   "cell_type": "code",
   "execution_count": 9,
   "id": "9a7c3bae",
   "metadata": {},
   "outputs": [
    {
     "name": "stdout",
     "output_type": "stream",
     "text": [
      "EXPECTED TEST DIRECTORY:  /home/tomas/Projects/visp_matlab_loader/matlab/tests/get_next_thousand\n"
     ]
    },
    {
     "ename": "NameError",
     "evalue": "name 'json_numpy' is not defined",
     "output_type": "error",
     "traceback": [
      "\u001b[0;31m---------------------------------------------------------------------------\u001b[0m",
      "\u001b[0;31mNameError\u001b[0m                                 Traceback (most recent call last)",
      "\u001b[1;32m/home/tomas/Projects/visp_matlab_loader/tests/Compile_And_Test_Projects.ipynb Cell 9\u001b[0m line \u001b[0;36m1\n\u001b[1;32m      <a href='vscode-notebook-cell://wsl%2Bubuntu-20.04/home/tomas/Projects/visp_matlab_loader/tests/Compile_And_Test_Projects.ipynb#X10sdnNjb2RlLXJlbW90ZQ%3D%3D?line=8'>9</a>\u001b[0m     \u001b[39mprint\u001b[39m(\u001b[39m'\u001b[39m\u001b[39mSkipping project: \u001b[39m\u001b[39m{}\u001b[39;00m\u001b[39m, no test cases\u001b[39m\u001b[39m'\u001b[39m\u001b[39m.\u001b[39mformat(project\u001b[39m.\u001b[39mname))\n\u001b[1;32m     <a href='vscode-notebook-cell://wsl%2Bubuntu-20.04/home/tomas/Projects/visp_matlab_loader/tests/Compile_And_Test_Projects.ipynb#X10sdnNjb2RlLXJlbW90ZQ%3D%3D?line=9'>10</a>\u001b[0m     \u001b[39mcontinue\u001b[39;00m\n\u001b[0;32m---> <a href='vscode-notebook-cell://wsl%2Bubuntu-20.04/home/tomas/Projects/visp_matlab_loader/tests/Compile_And_Test_Projects.ipynb#X10sdnNjb2RlLXJlbW90ZQ%3D%3D?line=11'>12</a>\u001b[0m test_case_runner \u001b[39m=\u001b[39m TestCaseRunner(project, test_case)\n\u001b[1;32m     <a href='vscode-notebook-cell://wsl%2Bubuntu-20.04/home/tomas/Projects/visp_matlab_loader/tests/Compile_And_Test_Projects.ipynb#X10sdnNjb2RlLXJlbW90ZQ%3D%3D?line=12'>13</a>\u001b[0m \u001b[39mfor\u001b[39;00m test \u001b[39min\u001b[39;00m test_case:\n\u001b[1;32m     <a href='vscode-notebook-cell://wsl%2Bubuntu-20.04/home/tomas/Projects/visp_matlab_loader/tests/Compile_And_Test_Projects.ipynb#X10sdnNjb2RlLXJlbW90ZQ%3D%3D?line=13'>14</a>\u001b[0m     \u001b[39mprint\u001b[39m(test)\n",
      "File \u001b[0;32m~/Projects/visp_matlab_loader/tests/../visp_matlab_loader/test_case_runner.py:69\u001b[0m, in \u001b[0;36mTestCaseRunner.__init__\u001b[0;34m(self, project, verbose)\u001b[0m\n\u001b[1;32m     67\u001b[0m \u001b[39mself\u001b[39m\u001b[39m.\u001b[39mtest_cases \u001b[39m=\u001b[39m []        \n\u001b[1;32m     68\u001b[0m \u001b[39mfor\u001b[39;00m test \u001b[39min\u001b[39;00m \u001b[39mself\u001b[39m\u001b[39m.\u001b[39mproject\u001b[39m.\u001b[39mtest_case_files:\n\u001b[0;32m---> 69\u001b[0m     test_json \u001b[39m=\u001b[39m json_numpy\u001b[39m.\u001b[39mJsonNumpy(test)\n\u001b[1;32m     70\u001b[0m     function_name, input_list, output_list \u001b[39m=\u001b[39m TestCaseRunner\u001b[39m.\u001b[39mconvert_from_test_dict(test_json\u001b[39m.\u001b[39mread())\n\u001b[1;32m     71\u001b[0m     \u001b[39mself\u001b[39m\u001b[39m.\u001b[39mtest_cases\u001b[39m.\u001b[39mappend(TestCase(function_name, input_list, output_list))\n",
      "\u001b[0;31mNameError\u001b[0m: name 'json_numpy' is not defined"
     ]
    }
   ],
   "source": [
    "# Run test cases:\n",
    "from visp_matlab_loader import test_case_runner\n",
    "importlib.reload(test_case_runner)\n",
    "from visp_matlab_loader.test_case_runner import TestCaseRunner\n",
    "for project in compiled_projects.compiled_projects:\n",
    "    test_dir = project.test_case_directory\n",
    "    print('EXPECTED TEST DIRECTORY: ', test_dir)\n",
    "    if not project.test_case_files:\n",
    "        print('Skipping project: {}, no test cases'.format(project.name))\n",
    "        continue\n",
    "    \n",
    "    test_case_runner = TestCaseRunner(project, test_case)\n",
    "    for test in test_case:\n",
    "        print(test)\n",
    "        \n"
   ]
  },
  {
   "cell_type": "code",
   "execution_count": null,
   "metadata": {},
   "outputs": [
    {
     "ename": "ModuleNotFoundError",
     "evalue": "No module named 'visp_matlab_loader'",
     "output_type": "error",
     "traceback": [
      "\u001b[0;31m---------------------------------------------------------------------------\u001b[0m",
      "\u001b[0;31mModuleNotFoundError\u001b[0m                       Traceback (most recent call last)",
      "\u001b[1;32m/home/tomas/Projects/visp_matlab_loader/tests/Compile_And_Test_Projects.ipynb Cell 10\u001b[0m line \u001b[0;36m1\n\u001b[0;32m----> <a href='vscode-notebook-cell://wsl%2Bubuntu-20.04/home/tomas/Projects/visp_matlab_loader/tests/Compile_And_Test_Projects.ipynb#X12sdnNjb2RlLXJlbW90ZQ%3D%3D?line=0'>1</a>\u001b[0m \u001b[39mimport\u001b[39;00m \u001b[39mvisp_matlab_loader\u001b[39;00m\n\u001b[1;32m      <a href='vscode-notebook-cell://wsl%2Bubuntu-20.04/home/tomas/Projects/visp_matlab_loader/tests/Compile_And_Test_Projects.ipynb#X12sdnNjb2RlLXJlbW90ZQ%3D%3D?line=1'>2</a>\u001b[0m importlib\u001b[39m.\u001b[39mreload(visp_matlab_loader\u001b[39m.\u001b[39mcompiled_project_executor)\n\u001b[1;32m      <a href='vscode-notebook-cell://wsl%2Bubuntu-20.04/home/tomas/Projects/visp_matlab_loader/tests/Compile_And_Test_Projects.ipynb#X12sdnNjb2RlLXJlbW90ZQ%3D%3D?line=2'>3</a>\u001b[0m \u001b[39mfrom\u001b[39;00m \u001b[39mvisp_matlab_loader\u001b[39;00m\u001b[39m.\u001b[39;00m\u001b[39mcompiled_project_executor\u001b[39;00m \u001b[39mimport\u001b[39;00m ExecuteCompiledProject\n",
      "\u001b[0;31mModuleNotFoundError\u001b[0m: No module named 'visp_matlab_loader'"
     ]
    }
   ],
   "source": [
    "\n",
    "import visp_matlab_loader\n",
    "importlib.reload(visp_matlab_loader.compiled_project_executor)\n",
    "from visp_matlab_loader.compiled_project_executor import ExecuteCompiledProject\n",
    "\n",
    "\n",
    "\n",
    "for project in compiled_projects.compiled_projects:\n",
    "    print(project)\n",
    "    executor = ExecuteCompiledProject(project)\n",
    "    print(executor.available_functions)\n",
    "    # executor.execute_script('')\n",
    "    break\n",
    "\n",
    "# executor.available_functions['getnextthousand']\n",
    "result = executor.execute_script(\"getnextthousand\", 1, 1)"
   ]
  },
  {
   "cell_type": "code",
   "execution_count": null,
   "metadata": {},
   "outputs": [
    {
     "name": "stdout",
     "output_type": "stream",
     "text": [
      "Compile_And_Test_Projects.ipynb  output.wav\n",
      "Test_Voice_Analysis.ipynb\t output2.wav\n",
      "input.mat\t\t\t results.mat\n",
      "library_tests\t\t\t test_script.py\n",
      "logs\t\t\t\t voice_analysis_directory_output.mat\n",
      "output\n"
     ]
    }
   ],
   "source": [
    "!cd ..\n",
    "!ls"
   ]
  },
  {
   "cell_type": "code",
   "execution_count": null,
   "metadata": {},
   "outputs": [
    {
     "name": "stdout",
     "output_type": "stream",
     "text": [
      "Compiled files for project 'voice_analysis_toolbox:' \n",
      "\tLocated at '/home/tomas/Projects/visp_matlab_loader/matlab/compiled/voice_analysis_toolbox'.\n",
      " \tWrapper file is '/home/tomas/Projects/visp_matlab_loader/matlab/compiled/voice_analysis_toolbox/voice_analysis_toolbox_wrapper.m', \n",
      "\tBinary file is '/home/tomas/Projects/visp_matlab_loader/matlab/compiled/voice_analysis_toolbox/voice_analysis_toolbox'.\n",
      " \tCode found at '/home/tomas/Projects/visp_matlab_loader/matlab/libraries/voice_analysis_toolbox'.\n",
      "\tTest cases are located at 'None'.\n"
     ]
    },
    {
     "ename": "TypeError",
     "evalue": "ExecuteCompiledProject.execute_script() missing 1 required positional argument: 'output_count'",
     "output_type": "error",
     "traceback": [
      "\u001b[0;31m---------------------------------------------------------------------------\u001b[0m",
      "\u001b[0;31mTypeError\u001b[0m                                 Traceback (most recent call last)",
      "\u001b[1;32m/home/tomas/Projects/visp_matlab_loader/tests/Compile_And_Test_Projects.ipynb Cell 11\u001b[0m line \u001b[0;36m7\n\u001b[1;32m      <a href='vscode-notebook-cell://wsl%2Bubuntu-20.04/home/tomas/Projects/visp_matlab_loader/tests/Compile_And_Test_Projects.ipynb#X13sdnNjb2RlLXJlbW90ZQ%3D%3D?line=3'>4</a>\u001b[0m executor\u001b[39m.\u001b[39mavailable_functions\n\u001b[1;32m      <a href='vscode-notebook-cell://wsl%2Bubuntu-20.04/home/tomas/Projects/visp_matlab_loader/tests/Compile_And_Test_Projects.ipynb#X13sdnNjb2RlLXJlbW90ZQ%3D%3D?line=5'>6</a>\u001b[0m executor\u001b[39m.\u001b[39mfind_available_function(\u001b[39m'\u001b[39m\u001b[39manalysis_modified\u001b[39m\u001b[39m'\u001b[39m)\n\u001b[0;32m----> <a href='vscode-notebook-cell://wsl%2Bubuntu-20.04/home/tomas/Projects/visp_matlab_loader/tests/Compile_And_Test_Projects.ipynb#X13sdnNjb2RlLXJlbW90ZQ%3D%3D?line=6'>7</a>\u001b[0m executor\u001b[39m.\u001b[39;49mexecute_script(\u001b[39m'\u001b[39;49m\u001b[39mvoice_analysis_modified\u001b[39;49m\u001b[39m'\u001b[39;49m, )\n",
      "\u001b[0;31mTypeError\u001b[0m: ExecuteCompiledProject.execute_script() missing 1 required positional argument: 'output_count'"
     ]
    }
   ],
   "source": [
    "va_toolbox = compiled_projects.get_project('voice_analysis_toolbox')\n",
    "print(va_toolbox)\n",
    "executor = ExecuteCompiledProject(va_toolbox)\n",
    "executor.available_functions\n",
    "\n",
    "executor.find_available_function('analysis_modified')\n",
    "executor.execute_script('voice_analysis_modified', )"
   ]
  }
 ],
 "metadata": {
  "kernelspec": {
   "display_name": "Python 3",
   "language": "python",
   "name": "python3"
  },
  "language_info": {
   "codemirror_mode": {
    "name": "ipython",
    "version": 3
   },
   "file_extension": ".py",
   "mimetype": "text/x-python",
   "name": "python",
   "nbconvert_exporter": "python",
   "pygments_lexer": "ipython3",
   "version": "3.11.2"
  },
  "vscode": {
   "interpreter": {
    "hash": "ebf3f5a813313554eb7f15f216dc0f875b37862542144108a6bd4160f524b8b3"
   }
  }
 },
 "nbformat": 4,
 "nbformat_minor": 5
}
